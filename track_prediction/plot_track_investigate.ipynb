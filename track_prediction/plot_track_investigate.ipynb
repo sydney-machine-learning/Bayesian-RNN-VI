{
 "cells": [
  {
   "cell_type": "code",
   "execution_count": 1,
   "metadata": {},
   "outputs": [],
   "source": [
    "import numpy as np\n",
    "import pandas as pd\n",
    "import matplotlib.pyplot as plt"
   ]
  },
  {
   "cell_type": "code",
   "execution_count": 2,
   "metadata": {},
   "outputs": [
    {
     "data": {
      "text/html": [
       "<div>\n",
       "<style scoped>\n",
       "    .dataframe tbody tr th:only-of-type {\n",
       "        vertical-align: middle;\n",
       "    }\n",
       "\n",
       "    .dataframe tbody tr th {\n",
       "        vertical-align: top;\n",
       "    }\n",
       "\n",
       "    .dataframe thead th {\n",
       "        text-align: right;\n",
       "    }\n",
       "</style>\n",
       "<table border=\"1\" class=\"dataframe\">\n",
       "  <thead>\n",
       "    <tr style=\"text-align: right;\">\n",
       "      <th></th>\n",
       "      <th>track_id</th>\n",
       "      <th>input1_latitude</th>\n",
       "      <th>input1_longitude</th>\n",
       "      <th>input2_latitude</th>\n",
       "      <th>input2_longitude</th>\n",
       "      <th>input3_latitude</th>\n",
       "      <th>input3_longitude</th>\n",
       "      <th>input4_latitude</th>\n",
       "      <th>input4_longitude</th>\n",
       "      <th>target_latitude</th>\n",
       "      <th>target_longitude</th>\n",
       "      <th>prediction_latitude</th>\n",
       "      <th>prediction_longitude</th>\n",
       "    </tr>\n",
       "  </thead>\n",
       "  <tbody>\n",
       "    <tr>\n",
       "      <th>7</th>\n",
       "      <td>2</td>\n",
       "      <td>0.0</td>\n",
       "      <td>0.0</td>\n",
       "      <td>0.0</td>\n",
       "      <td>0.5</td>\n",
       "      <td>0.0</td>\n",
       "      <td>1.0</td>\n",
       "      <td>0.0</td>\n",
       "      <td>1.5</td>\n",
       "      <td>-0.1</td>\n",
       "      <td>2.0</td>\n",
       "      <td>[-0.003175199031829834, 0.031439654529094696, ...</td>\n",
       "      <td>[1.910503625869751, 1.9747651815414429, 2.0788...</td>\n",
       "    </tr>\n",
       "    <tr>\n",
       "      <th>8</th>\n",
       "      <td>2</td>\n",
       "      <td>0.0</td>\n",
       "      <td>0.5</td>\n",
       "      <td>0.0</td>\n",
       "      <td>1.0</td>\n",
       "      <td>0.0</td>\n",
       "      <td>1.5</td>\n",
       "      <td>-0.1</td>\n",
       "      <td>2.0</td>\n",
       "      <td>-0.3</td>\n",
       "      <td>2.2</td>\n",
       "      <td>[-0.19394487142562866, -0.007031567394733429, ...</td>\n",
       "      <td>[2.4928219318389893, 2.559429407119751, 2.6266...</td>\n",
       "    </tr>\n",
       "    <tr>\n",
       "      <th>9</th>\n",
       "      <td>2</td>\n",
       "      <td>0.0</td>\n",
       "      <td>1.0</td>\n",
       "      <td>0.0</td>\n",
       "      <td>1.5</td>\n",
       "      <td>-0.1</td>\n",
       "      <td>2.0</td>\n",
       "      <td>-0.3</td>\n",
       "      <td>2.2</td>\n",
       "      <td>-0.7</td>\n",
       "      <td>2.1</td>\n",
       "      <td>[-0.4824463725090027, -0.19456303119659424, -0...</td>\n",
       "      <td>[2.390922784805298, 2.615448236465454, 2.65980...</td>\n",
       "    </tr>\n",
       "    <tr>\n",
       "      <th>10</th>\n",
       "      <td>2</td>\n",
       "      <td>0.0</td>\n",
       "      <td>1.5</td>\n",
       "      <td>-0.1</td>\n",
       "      <td>2.0</td>\n",
       "      <td>-0.3</td>\n",
       "      <td>2.2</td>\n",
       "      <td>-0.7</td>\n",
       "      <td>2.1</td>\n",
       "      <td>-1.1</td>\n",
       "      <td>1.8</td>\n",
       "      <td>[-0.9909624457359314, -0.9272375106811523, -0....</td>\n",
       "      <td>[2.2606468200683594, 2.214492082595825, 2.3384...</td>\n",
       "    </tr>\n",
       "    <tr>\n",
       "      <th>11</th>\n",
       "      <td>2</td>\n",
       "      <td>-0.1</td>\n",
       "      <td>2.0</td>\n",
       "      <td>-0.3</td>\n",
       "      <td>2.2</td>\n",
       "      <td>-0.7</td>\n",
       "      <td>2.1</td>\n",
       "      <td>-1.1</td>\n",
       "      <td>1.8</td>\n",
       "      <td>-1.5</td>\n",
       "      <td>1.5</td>\n",
       "      <td>[-1.4251606464385986, -1.3278656005859375, -1....</td>\n",
       "      <td>[1.6188409328460693, 1.795960783958435, 1.7878...</td>\n",
       "    </tr>\n",
       "  </tbody>\n",
       "</table>\n",
       "</div>"
      ],
      "text/plain": [
       "    track_id  input1_latitude  input1_longitude  input2_latitude  \\\n",
       "7          2              0.0               0.0              0.0   \n",
       "8          2              0.0               0.5              0.0   \n",
       "9          2              0.0               1.0              0.0   \n",
       "10         2              0.0               1.5             -0.1   \n",
       "11         2             -0.1               2.0             -0.3   \n",
       "\n",
       "    input2_longitude  input3_latitude  input3_longitude  input4_latitude  \\\n",
       "7                0.5              0.0               1.0              0.0   \n",
       "8                1.0              0.0               1.5             -0.1   \n",
       "9                1.5             -0.1               2.0             -0.3   \n",
       "10               2.0             -0.3               2.2             -0.7   \n",
       "11               2.2             -0.7               2.1             -1.1   \n",
       "\n",
       "    input4_longitude  target_latitude  target_longitude  \\\n",
       "7                1.5             -0.1               2.0   \n",
       "8                2.0             -0.3               2.2   \n",
       "9                2.2             -0.7               2.1   \n",
       "10               2.1             -1.1               1.8   \n",
       "11               1.8             -1.5               1.5   \n",
       "\n",
       "                                  prediction_latitude  \\\n",
       "7   [-0.003175199031829834, 0.031439654529094696, ...   \n",
       "8   [-0.19394487142562866, -0.007031567394733429, ...   \n",
       "9   [-0.4824463725090027, -0.19456303119659424, -0...   \n",
       "10  [-0.9909624457359314, -0.9272375106811523, -0....   \n",
       "11  [-1.4251606464385986, -1.3278656005859375, -1....   \n",
       "\n",
       "                                 prediction_longitude  \n",
       "7   [1.910503625869751, 1.9747651815414429, 2.0788...  \n",
       "8   [2.4928219318389893, 2.559429407119751, 2.6266...  \n",
       "9   [2.390922784805298, 2.615448236465454, 2.65980...  \n",
       "10  [2.2606468200683594, 2.214492082595825, 2.3384...  \n",
       "11  [1.6188409328460693, 1.795960783958435, 1.7878...  "
      ]
     },
     "execution_count": 2,
     "metadata": {},
     "output_type": "execute_result"
    }
   ],
   "source": [
    "file_path = \"results/test_file.csv\"\n",
    "df = pd.read_csv(file_path, index_col=False)\n",
    "df = df.loc[df.track_id==2]\n",
    "df.head()"
   ]
  },
  {
   "cell_type": "code",
   "execution_count": 3,
   "metadata": {},
   "outputs": [
    {
     "data": {
      "text/plain": [
       "(array([-1.50533533,  3.33211684]), array([-0.59198982,  4.64117098]))"
      ]
     },
     "execution_count": 3,
     "metadata": {},
     "output_type": "execute_result"
    }
   ],
   "source": [
    "index = np.random.randint(0, 19)\n",
    "\n",
    "# Data\n",
    "data_lat = np.array(df.prediction_latitude.apply(lambda x: np.array(eval(x))).tolist())[index]\n",
    "data_long = np.array(df.prediction_longitude.apply(lambda x: np.array(eval(x))).tolist())[index]\n",
    "data = np.vstack((data_lat, data_long))\n",
    "data.min(axis=1), data.max(axis=1)"
   ]
  },
  {
   "cell_type": "code",
   "execution_count": 4,
   "metadata": {},
   "outputs": [
    {
     "data": {
      "text/plain": [
       "(array([-1.11177122,  4.0500145 ]),\n",
       " array([[0.02860319, 0.0228757 ],\n",
       "        [0.0228757 , 0.06994836]]))"
      ]
     },
     "execution_count": 4,
     "metadata": {},
     "output_type": "execute_result"
    }
   ],
   "source": [
    "_mean, _cov = np.mean(data, axis=1), np.cov(data)\n",
    "_mean, _cov"
   ]
  },
  {
   "cell_type": "code",
   "execution_count": 5,
   "metadata": {},
   "outputs": [],
   "source": [
    "from scipy.stats import multivariate_normal"
   ]
  },
  {
   "cell_type": "code",
   "execution_count": 6,
   "metadata": {},
   "outputs": [],
   "source": [
    "dist = multivariate_normal(mean=_mean, cov=_cov)"
   ]
  },
  {
   "cell_type": "code",
   "execution_count": 7,
   "metadata": {},
   "outputs": [],
   "source": [
    "x = np.linspace(_mean[0]-1, _mean[0]+1, 100)\n",
    "y = np.linspace(_mean[1]-1, _mean[1]+1, 100)\n",
    "\n",
    "xx, yy = np.meshgrid(x, y)\n"
   ]
  },
  {
   "cell_type": "code",
   "execution_count": 8,
   "metadata": {},
   "outputs": [],
   "source": [
    "pdf = np.zeros((100, 100))\n",
    "\n",
    "for i in range(100):\n",
    "    for j in range(100):\n",
    "        pdf[i, j] = dist.pdf([xx[i, j], yy[i, j]])\n",
    "\n",
    "        "
   ]
  },
  {
   "cell_type": "code",
   "execution_count": 11,
   "metadata": {},
   "outputs": [
    {
     "data": {
      "text/plain": [
       "<matplotlib.contour.QuadContourSet at 0x7f2d3c7cd640>"
      ]
     },
     "execution_count": 11,
     "metadata": {},
     "output_type": "execute_result"
    },
    {
     "data": {
      "image/png": "[encoded data removed]",
      "text/plain": [
       "<Figure size 432x288 with 1 Axes>"
      ]
     },
     "metadata": {
      "needs_background": "light"
     },
     "output_type": "display_data"
    }
   ],
   "source": [
    "fig = plt.figure()\n",
    "ax = fig.add_subplot(111)\n",
    "ax.contour(xx, yy, pdf)"
   ]
  },
  {
   "cell_type": "code",
   "execution_count": null,
   "metadata": {},
   "outputs": [],
   "source": []
  }
 ],
 "metadata": {
  "interpreter": {
   "hash": "d4d1e4263499bec80672ea0156c357c1ee493ec2b1c70f0acce89fc37c4a6abe"
  },
  "kernelspec": {
   "display_name": "Python 3.8.12 64-bit ('base': conda)",
   "language": "python",
   "name": "python3"
  },
  "language_info": {
   "codemirror_mode": {
    "name": "ipython",
    "version": 3
   },
   "file_extension": ".py",
   "mimetype": "text/x-python",
   "name": "python",
   "nbconvert_exporter": "python",
   "pygments_lexer": "ipython3",
   "version": "3.8.12"
  },
  "orig_nbformat": 4
 },
 "nbformat": 4,
 "nbformat_minor": 2
}
