{
 "cells": [
  {
   "cell_type": "code",
   "execution_count": 2,
   "metadata": {},
   "outputs": [],
   "source": [
    "import numpy as np\n",
    "import pandas as pd\n",
    "import matplotlib.pyplot as plt"
   ]
  },
  {
   "cell_type": "code",
   "execution_count": 3,
   "metadata": {},
   "outputs": [
    {
     "data": {
      "text/html": [
       "<div>\n",
       "<style scoped>\n",
       "    .dataframe tbody tr th:only-of-type {\n",
       "        vertical-align: middle;\n",
       "    }\n",
       "\n",
       "    .dataframe tbody tr th {\n",
       "        vertical-align: top;\n",
       "    }\n",
       "\n",
       "    .dataframe thead th {\n",
       "        text-align: right;\n",
       "    }\n",
       "</style>\n",
       "<table border=\"1\" class=\"dataframe\">\n",
       "  <thead>\n",
       "    <tr style=\"text-align: right;\">\n",
       "      <th></th>\n",
       "      <th>track_id</th>\n",
       "      <th>input1_latitude</th>\n",
       "      <th>input1_longitude</th>\n",
       "      <th>input2_latitude</th>\n",
       "      <th>input2_longitude</th>\n",
       "      <th>input3_latitude</th>\n",
       "      <th>input3_longitude</th>\n",
       "      <th>input4_latitude</th>\n",
       "      <th>input4_longitude</th>\n",
       "      <th>target_latitude</th>\n",
       "      <th>target_longitude</th>\n",
       "      <th>prediction_latitude</th>\n",
       "      <th>prediction_longitude</th>\n",
       "    </tr>\n",
       "  </thead>\n",
       "  <tbody>\n",
       "    <tr>\n",
       "      <th>7</th>\n",
       "      <td>2</td>\n",
       "      <td>0.0</td>\n",
       "      <td>0.0</td>\n",
       "      <td>0.0</td>\n",
       "      <td>0.5</td>\n",
       "      <td>0.0</td>\n",
       "      <td>1.0</td>\n",
       "      <td>0.0</td>\n",
       "      <td>1.5</td>\n",
       "      <td>-0.1</td>\n",
       "      <td>2.0</td>\n",
       "      <td>[0.020824074745178223, 0.0177445188164711, -0....</td>\n",
       "      <td>[1.8990029096603394, 1.9924280643463135, 1.986...</td>\n",
       "    </tr>\n",
       "    <tr>\n",
       "      <th>8</th>\n",
       "      <td>2</td>\n",
       "      <td>0.0</td>\n",
       "      <td>0.5</td>\n",
       "      <td>0.0</td>\n",
       "      <td>1.0</td>\n",
       "      <td>0.0</td>\n",
       "      <td>1.5</td>\n",
       "      <td>-0.1</td>\n",
       "      <td>2.0</td>\n",
       "      <td>-0.3</td>\n",
       "      <td>2.2</td>\n",
       "      <td>[-0.17447298765182495, -0.3009862005710602, -0...</td>\n",
       "      <td>[2.4807562828063965, 2.5241310596466064, 2.388...</td>\n",
       "    </tr>\n",
       "    <tr>\n",
       "      <th>9</th>\n",
       "      <td>2</td>\n",
       "      <td>0.0</td>\n",
       "      <td>1.0</td>\n",
       "      <td>0.0</td>\n",
       "      <td>1.5</td>\n",
       "      <td>-0.1</td>\n",
       "      <td>2.0</td>\n",
       "      <td>-0.3</td>\n",
       "      <td>2.2</td>\n",
       "      <td>-0.7</td>\n",
       "      <td>2.1</td>\n",
       "      <td>[-0.5825176239013672, -0.5430954694747925, -0....</td>\n",
       "      <td>[2.6264610290527344, 2.6024601459503174, 2.216...</td>\n",
       "    </tr>\n",
       "    <tr>\n",
       "      <th>10</th>\n",
       "      <td>2</td>\n",
       "      <td>0.0</td>\n",
       "      <td>1.5</td>\n",
       "      <td>-0.1</td>\n",
       "      <td>2.0</td>\n",
       "      <td>-0.3</td>\n",
       "      <td>2.2</td>\n",
       "      <td>-0.7</td>\n",
       "      <td>2.1</td>\n",
       "      <td>-1.1</td>\n",
       "      <td>1.8</td>\n",
       "      <td>[-1.2085498571395874, -1.0735023021697998, -1....</td>\n",
       "      <td>[2.0126476287841797, 2.430894374847412, 1.7487...</td>\n",
       "    </tr>\n",
       "    <tr>\n",
       "      <th>11</th>\n",
       "      <td>2</td>\n",
       "      <td>-0.1</td>\n",
       "      <td>2.0</td>\n",
       "      <td>-0.3</td>\n",
       "      <td>2.2</td>\n",
       "      <td>-0.7</td>\n",
       "      <td>2.1</td>\n",
       "      <td>-1.1</td>\n",
       "      <td>1.8</td>\n",
       "      <td>-1.5</td>\n",
       "      <td>1.5</td>\n",
       "      <td>[-1.6545888185501099, -1.7907216548919678, -1....</td>\n",
       "      <td>[1.3287409543991089, 1.3422915935516357, 1.539...</td>\n",
       "    </tr>\n",
       "  </tbody>\n",
       "</table>\n",
       "</div>"
      ],
      "text/plain": [
       "    track_id  input1_latitude  input1_longitude  input2_latitude  \\\n",
       "7          2              0.0               0.0              0.0   \n",
       "8          2              0.0               0.5              0.0   \n",
       "9          2              0.0               1.0              0.0   \n",
       "10         2              0.0               1.5             -0.1   \n",
       "11         2             -0.1               2.0             -0.3   \n",
       "\n",
       "    input2_longitude  input3_latitude  input3_longitude  input4_latitude  \\\n",
       "7                0.5              0.0               1.0              0.0   \n",
       "8                1.0              0.0               1.5             -0.1   \n",
       "9                1.5             -0.1               2.0             -0.3   \n",
       "10               2.0             -0.3               2.2             -0.7   \n",
       "11               2.2             -0.7               2.1             -1.1   \n",
       "\n",
       "    input4_longitude  target_latitude  target_longitude  \\\n",
       "7                1.5             -0.1               2.0   \n",
       "8                2.0             -0.3               2.2   \n",
       "9                2.2             -0.7               2.1   \n",
       "10               2.1             -1.1               1.8   \n",
       "11               1.8             -1.5               1.5   \n",
       "\n",
       "                                  prediction_latitude  \\\n",
       "7   [0.020824074745178223, 0.0177445188164711, -0....   \n",
       "8   [-0.17447298765182495, -0.3009862005710602, -0...   \n",
       "9   [-0.5825176239013672, -0.5430954694747925, -0....   \n",
       "10  [-1.2085498571395874, -1.0735023021697998, -1....   \n",
       "11  [-1.6545888185501099, -1.7907216548919678, -1....   \n",
       "\n",
       "                                 prediction_longitude  \n",
       "7   [1.8990029096603394, 1.9924280643463135, 1.986...  \n",
       "8   [2.4807562828063965, 2.5241310596466064, 2.388...  \n",
       "9   [2.6264610290527344, 2.6024601459503174, 2.216...  \n",
       "10  [2.0126476287841797, 2.430894374847412, 1.7487...  \n",
       "11  [1.3287409543991089, 1.3422915935516357, 1.539...  "
      ]
     },
     "execution_count": 3,
     "metadata": {},
     "output_type": "execute_result"
    }
   ],
   "source": [
    "file_path = \"results/test_file.csv\"\n",
    "df = pd.read_csv(file_path, index_col=False)\n",
    "df = df.loc[df.track_id==2]\n",
    "df.head()"
   ]
  },
  {
   "cell_type": "code",
   "execution_count": 29,
   "metadata": {},
   "outputs": [
    {
     "data": {
      "text/plain": [
       "(array([-3.01571727,  1.06056762]), array([-2.40835524,  2.29111099]))"
      ]
     },
     "execution_count": 29,
     "metadata": {},
     "output_type": "execute_result"
    }
   ],
   "source": [
    "index = np.random.randint(0, 19)\n",
    "\n",
    "# Data\n",
    "data_lat = np.array(df.prediction_latitude.apply(lambda x: np.array(eval(x))).tolist())[index]\n",
    "data_long = np.array(df.prediction_longitude.apply(lambda x: np.array(eval(x))).tolist())[index]\n",
    "data = np.vstack((data_lat, data_long))\n",
    "data.min(axis=1), data.max(axis=1)"
   ]
  },
  {
   "cell_type": "code",
   "execution_count": 30,
   "metadata": {},
   "outputs": [
    {
     "data": {
      "text/plain": [
       "(array([-2.72159082,  1.42391986]),\n",
       " array([[0.01538378, 0.00172852],\n",
       "        [0.00172852, 0.03841242]]))"
      ]
     },
     "execution_count": 30,
     "metadata": {},
     "output_type": "execute_result"
    }
   ],
   "source": [
    "_mean, _cov = np.mean(data, axis=1), np.cov(data)\n",
    "_mean, _cov"
   ]
  },
  {
   "cell_type": "code",
   "execution_count": 31,
   "metadata": {},
   "outputs": [],
   "source": [
    "from scipy.stats import multivariate_normal"
   ]
  },
  {
   "cell_type": "code",
   "execution_count": 32,
   "metadata": {},
   "outputs": [],
   "source": [
    "dist = multivariate_normal(mean=_mean, cov=_cov)"
   ]
  },
  {
   "cell_type": "code",
   "execution_count": 33,
   "metadata": {},
   "outputs": [],
   "source": [
    "x = np.linspace(_mean[0]-1, _mean[0]+1, 100)\n",
    "y = np.linspace(_mean[1]-1, _mean[1]+1, 100)\n",
    "\n",
    "xx, yy = np.meshgrid(x, y)\n"
   ]
  },
  {
   "cell_type": "code",
   "execution_count": 34,
   "metadata": {},
   "outputs": [
    {
     "name": "stdout",
     "output_type": "stream",
     "text": [
      "[1.67927581e-18 5.84457136e-18 1.98062931e-17 6.53542205e-17\n",
      " 2.09973254e-16 6.56862125e-16 2.00080316e-15 5.93409387e-15\n",
      " 1.71365882e-14 4.81852605e-14 1.31924047e-13 3.51684817e-13\n",
      " 9.12857897e-13 2.30713303e-12 5.67756347e-12 1.36041453e-11\n",
      " 3.17395254e-11 7.21023627e-11 1.59484495e-10 3.43484654e-10\n",
      " 7.20304476e-10 1.47077009e-09 2.92410773e-09 5.66059196e-09\n",
      " 1.06696515e-08 1.95820664e-08 3.49934456e-08 6.08884329e-08\n",
      " 1.03157970e-07 1.70173011e-07 2.73337035e-07 4.27490214e-07\n",
      " 6.50989192e-07 9.65253268e-07 1.39356967e-06 1.95900702e-06\n",
      " 2.68140986e-06 3.57363599e-06 4.63742957e-06 5.85954971e-06\n",
      " 7.20893419e-06 8.63570466e-06 1.00726653e-05 1.14396023e-05\n",
      " 1.26501989e-05 1.36208335e-05 1.42800561e-05 1.45772649e-05\n",
      " 1.44891224e-05 1.40225830e-05 1.32139865e-05 1.21243817e-05\n",
      " 1.08319150e-05 9.42260077e-06 7.98098030e-06 6.58205625e-06\n",
      " 5.28550931e-06 4.13268208e-06 3.14627771e-06 2.33228711e-06\n",
      " 1.68339826e-06 1.18307326e-06 8.09573535e-07 5.39412331e-07\n",
      " 3.49949470e-07 2.21059769e-07 1.35967147e-07 8.14288240e-08\n",
      " 4.74834473e-08 2.69603932e-08 1.49049356e-08 8.02331586e-09\n",
      " 4.20530575e-09 2.14615540e-09 1.06646021e-09 5.15998039e-10\n",
      " 2.43092381e-10 1.11510187e-10 4.98055391e-11 2.16601095e-11\n",
      " 9.17198957e-12 3.78169378e-12 1.51820028e-12 5.93460309e-13\n",
      " 2.25878134e-13 8.37098584e-14 3.02063969e-14 1.06130728e-14\n",
      " 3.63080785e-15 1.20944268e-15 3.92271915e-16 1.23882239e-16\n",
      " 3.80934910e-17 1.14054495e-17 3.32501755e-18 9.43833481e-19\n",
      " 2.60865543e-19 7.02033699e-20 1.83958179e-20 4.69353595e-21]\n"
     ]
    }
   ],
   "source": [
    "pdf = np.zeros((100, 100))\n",
    "\n",
    "for i in range(100):\n",
    "    for j in range(100):\n",
    "        pdf[i, j] = dist.pdf([xx[i, j], yy[i, j]])\n",
    "\n",
    "print(pdf[0])\n",
    "        "
   ]
  },
  {
   "cell_type": "code",
   "execution_count": 42,
   "metadata": {},
   "outputs": [
    {
     "name": "stdout",
     "output_type": "stream",
     "text": [
      "[[ 0.          0.          0.          0.        ]\n",
      " [ 0.          0.          0.         -0.1       ]\n",
      " [ 0.          0.         -0.1        -0.30000001]\n",
      " [ 0.         -0.1        -0.30000001 -0.69999999]\n",
      " [-0.1        -0.30000001 -0.69999999 -1.10000002]\n",
      " [-0.30000001 -0.69999999 -1.10000002 -1.5       ]\n",
      " [-0.69999999 -1.10000002 -1.5        -1.89999998]\n",
      " [-1.10000002 -1.5        -1.89999998 -2.29999995]\n",
      " [-1.5        -1.89999998 -2.29999995 -2.5999999 ]\n",
      " [-1.89999998 -2.29999995 -2.5999999  -2.79999995]\n",
      " [-2.29999995 -2.5999999  -2.79999995 -2.9000001 ]\n",
      " [-2.5999999  -2.79999995 -2.9000001  -2.9000001 ]\n",
      " [-2.79999995 -2.9000001  -2.9000001  -2.70000005]\n",
      " [-2.9000001  -2.9000001  -2.70000005 -2.5       ]\n",
      " [-2.9000001  -2.70000005 -2.5        -2.20000005]\n",
      " [-2.70000005 -2.5        -2.20000005 -1.89999998]\n",
      " [-2.5        -2.20000005 -1.89999998 -1.60000002]\n",
      " [-2.20000005 -1.89999998 -1.60000002 -1.29999995]\n",
      " [-1.89999998 -1.60000002 -1.29999995 -1.        ]]\n",
      "[0. 0. 0. 0.]\n"
     ]
    }
   ],
   "source": [
    "input_lat = np.array([df.input1_latitude, df.input2_latitude, df.input3_latitude, df.input4_latitude])\n",
    "input_lat = np.transpose(input_lat)\n",
    "print(input_lat)\n",
    "\n",
    "input_long = np.array([df.input1_longitude, df.input2_longitude, df.input3_longitude, df.input4_longitude])\n",
    "input_long = np.transpose(input_long)\n",
    "print(input_lat[0])"
   ]
  },
  {
   "cell_type": "code",
   "execution_count": 44,
   "metadata": {},
   "outputs": [
    {
     "name": "stdout",
     "output_type": "stream",
     "text": [
      "[-1.10000002 -1.5        -1.89999998 -2.29999995]\n",
      "[1.79999995 1.5        1.29999995 1.39999998]\n",
      "7\n"
     ]
    },
    {
     "data": {
      "image/png": "[encoded data removed]",
      "text/plain": [
       "<Figure size 432x288 with 1 Axes>"
      ]
     },
     "metadata": {
      "needs_background": "light"
     },
     "output_type": "display_data"
    }
   ],
   "source": [
    "fig = plt.figure()\n",
    "ax = fig.add_subplot(111)\n",
    "ax.contour(xx, yy, pdf)\n",
    "ax.plot([input_lat[index]], [input_long[index]], marker = 'o', markersize=5, color=\"red\")\n",
    "print(input_lat[index])\n",
    "print(input_long[index])\n",
    "print(index)"
   ]
  },
  {
   "cell_type": "code",
   "execution_count": null,
   "metadata": {},
   "outputs": [],
   "source": []
  },
  {
   "cell_type": "code",
   "execution_count": null,
   "metadata": {},
   "outputs": [],
   "source": []
  },
  {
   "cell_type": "code",
   "execution_count": null,
   "metadata": {},
   "outputs": [],
   "source": []
  }
 ],
 "metadata": {
  "interpreter": {
   "hash": "d4d1e4263499bec80672ea0156c357c1ee493ec2b1c70f0acce89fc37c4a6abe"
  },
  "kernelspec": {
   "display_name": "Python 3",
   "language": "python",
   "name": "python3"
  },
  "language_info": {
   "codemirror_mode": {
    "name": "ipython",
    "version": 3
   },
   "file_extension": ".py",
   "mimetype": "text/x-python",
   "name": "python",
   "nbconvert_exporter": "python",
   "pygments_lexer": "ipython3",
   "version": "3.9.2"
  }
 },
 "nbformat": 4,
 "nbformat_minor": 2
}
