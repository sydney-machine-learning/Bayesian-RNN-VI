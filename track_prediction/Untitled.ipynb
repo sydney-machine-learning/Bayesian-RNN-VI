{
 "cells": [
  {
   "cell_type": "code",
   "execution_count": 1,
   "id": "popular-display",
   "metadata": {},
   "outputs": [],
   "source": [
    "import numpy as np\n",
    "import pandas as pd\n",
    "import matplotlib.pyplot as plt"
   ]
  },
  {
   "cell_type": "code",
   "execution_count": 2,
   "id": "preliminary-poultry",
   "metadata": {},
   "outputs": [
    {
     "data": {
      "text/html": [
       "<div>\n",
       "<style scoped>\n",
       "    .dataframe tbody tr th:only-of-type {\n",
       "        vertical-align: middle;\n",
       "    }\n",
       "\n",
       "    .dataframe tbody tr th {\n",
       "        vertical-align: top;\n",
       "    }\n",
       "\n",
       "    .dataframe thead th {\n",
       "        text-align: right;\n",
       "    }\n",
       "</style>\n",
       "<table border=\"1\" class=\"dataframe\">\n",
       "  <thead>\n",
       "    <tr style=\"text-align: right;\">\n",
       "      <th></th>\n",
       "      <th>track_id</th>\n",
       "      <th>input1_latitude</th>\n",
       "      <th>input1_longitude</th>\n",
       "      <th>input2_latitude</th>\n",
       "      <th>input2_longitude</th>\n",
       "      <th>input3_latitude</th>\n",
       "      <th>input3_longitude</th>\n",
       "      <th>input4_latitude</th>\n",
       "      <th>input4_longitude</th>\n",
       "      <th>target_latitude</th>\n",
       "      <th>target_longitude</th>\n",
       "      <th>prediction_latitude</th>\n",
       "      <th>prediction_longitude</th>\n",
       "    </tr>\n",
       "  </thead>\n",
       "  <tbody>\n",
       "    <tr>\n",
       "      <th>7</th>\n",
       "      <td>2</td>\n",
       "      <td>0.0</td>\n",
       "      <td>0.0</td>\n",
       "      <td>0.0</td>\n",
       "      <td>0.5</td>\n",
       "      <td>0.0</td>\n",
       "      <td>1.0</td>\n",
       "      <td>0.0</td>\n",
       "      <td>1.5</td>\n",
       "      <td>-0.1</td>\n",
       "      <td>2.0</td>\n",
       "      <td>[0.020824074745178223, 0.0177445188164711, -0....</td>\n",
       "      <td>[1.8990029096603394, 1.9924280643463135, 1.986...</td>\n",
       "    </tr>\n",
       "    <tr>\n",
       "      <th>8</th>\n",
       "      <td>2</td>\n",
       "      <td>0.0</td>\n",
       "      <td>0.5</td>\n",
       "      <td>0.0</td>\n",
       "      <td>1.0</td>\n",
       "      <td>0.0</td>\n",
       "      <td>1.5</td>\n",
       "      <td>-0.1</td>\n",
       "      <td>2.0</td>\n",
       "      <td>-0.3</td>\n",
       "      <td>2.2</td>\n",
       "      <td>[-0.17447298765182495, -0.3009862005710602, -0...</td>\n",
       "      <td>[2.4807562828063965, 2.5241310596466064, 2.388...</td>\n",
       "    </tr>\n",
       "    <tr>\n",
       "      <th>9</th>\n",
       "      <td>2</td>\n",
       "      <td>0.0</td>\n",
       "      <td>1.0</td>\n",
       "      <td>0.0</td>\n",
       "      <td>1.5</td>\n",
       "      <td>-0.1</td>\n",
       "      <td>2.0</td>\n",
       "      <td>-0.3</td>\n",
       "      <td>2.2</td>\n",
       "      <td>-0.7</td>\n",
       "      <td>2.1</td>\n",
       "      <td>[-0.5825176239013672, -0.5430954694747925, -0....</td>\n",
       "      <td>[2.6264610290527344, 2.6024601459503174, 2.216...</td>\n",
       "    </tr>\n",
       "    <tr>\n",
       "      <th>10</th>\n",
       "      <td>2</td>\n",
       "      <td>0.0</td>\n",
       "      <td>1.5</td>\n",
       "      <td>-0.1</td>\n",
       "      <td>2.0</td>\n",
       "      <td>-0.3</td>\n",
       "      <td>2.2</td>\n",
       "      <td>-0.7</td>\n",
       "      <td>2.1</td>\n",
       "      <td>-1.1</td>\n",
       "      <td>1.8</td>\n",
       "      <td>[-1.2085498571395874, -1.0735023021697998, -1....</td>\n",
       "      <td>[2.0126476287841797, 2.430894374847412, 1.7487...</td>\n",
       "    </tr>\n",
       "    <tr>\n",
       "      <th>11</th>\n",
       "      <td>2</td>\n",
       "      <td>-0.1</td>\n",
       "      <td>2.0</td>\n",
       "      <td>-0.3</td>\n",
       "      <td>2.2</td>\n",
       "      <td>-0.7</td>\n",
       "      <td>2.1</td>\n",
       "      <td>-1.1</td>\n",
       "      <td>1.8</td>\n",
       "      <td>-1.5</td>\n",
       "      <td>1.5</td>\n",
       "      <td>[-1.6545888185501099, -1.7907216548919678, -1....</td>\n",
       "      <td>[1.3287409543991089, 1.3422915935516357, 1.539...</td>\n",
       "    </tr>\n",
       "  </tbody>\n",
       "</table>\n",
       "</div>"
      ],
      "text/plain": [
       "    track_id  input1_latitude  input1_longitude  input2_latitude  \\\n",
       "7          2              0.0               0.0              0.0   \n",
       "8          2              0.0               0.5              0.0   \n",
       "9          2              0.0               1.0              0.0   \n",
       "10         2              0.0               1.5             -0.1   \n",
       "11         2             -0.1               2.0             -0.3   \n",
       "\n",
       "    input2_longitude  input3_latitude  input3_longitude  input4_latitude  \\\n",
       "7                0.5              0.0               1.0              0.0   \n",
       "8                1.0              0.0               1.5             -0.1   \n",
       "9                1.5             -0.1               2.0             -0.3   \n",
       "10               2.0             -0.3               2.2             -0.7   \n",
       "11               2.2             -0.7               2.1             -1.1   \n",
       "\n",
       "    input4_longitude  target_latitude  target_longitude  \\\n",
       "7                1.5             -0.1               2.0   \n",
       "8                2.0             -0.3               2.2   \n",
       "9                2.2             -0.7               2.1   \n",
       "10               2.1             -1.1               1.8   \n",
       "11               1.8             -1.5               1.5   \n",
       "\n",
       "                                  prediction_latitude  \\\n",
       "7   [0.020824074745178223, 0.0177445188164711, -0....   \n",
       "8   [-0.17447298765182495, -0.3009862005710602, -0...   \n",
       "9   [-0.5825176239013672, -0.5430954694747925, -0....   \n",
       "10  [-1.2085498571395874, -1.0735023021697998, -1....   \n",
       "11  [-1.6545888185501099, -1.7907216548919678, -1....   \n",
       "\n",
       "                                 prediction_longitude  \n",
       "7   [1.8990029096603394, 1.9924280643463135, 1.986...  \n",
       "8   [2.4807562828063965, 2.5241310596466064, 2.388...  \n",
       "9   [2.6264610290527344, 2.6024601459503174, 2.216...  \n",
       "10  [2.0126476287841797, 2.430894374847412, 1.7487...  \n",
       "11  [1.3287409543991089, 1.3422915935516357, 1.539...  "
      ]
     },
     "execution_count": 2,
     "metadata": {},
     "output_type": "execute_result"
    }
   ],
   "source": [
    "file_path = \"results/test_file.csv\"\n",
    "df = pd.read_csv(file_path, index_col=False)\n",
    "df = df.loc[df.track_id==2]\n",
    "df.head()"
   ]
  },
  {
   "cell_type": "code",
   "execution_count": 3,
   "id": "naked-thinking",
   "metadata": {},
   "outputs": [],
   "source": [
    "index = np.random.randint(0, 15)"
   ]
  },
  {
   "cell_type": "code",
   "execution_count": 20,
   "id": "widespread-cooler",
   "metadata": {},
   "outputs": [],
   "source": [
    "\n",
    "def get_confidence_interval_of_target(index):\n",
    "    # Data\n",
    "    data_lat = np.array(df.prediction_latitude.apply(lambda x: np.array(eval(x))).tolist())[index]\n",
    "    data_long = np.array(df.prediction_longitude.apply(lambda x: np.array(eval(x))).tolist())[index]\n",
    "    data = np.vstack((data_lat, data_long))\n",
    "    data.min(axis=1), data.max(axis=1)\n",
    "\n",
    "    _mean, _cov = np.mean(data, axis=1), np.cov(data)\n",
    "    _mean, _cov\n",
    "    \n",
    "    from scipy.stats import multivariate_normal\n",
    "    \n",
    "    dist = multivariate_normal(mean=_mean, cov=_cov)\n",
    "\n",
    "    x = np.linspace(_mean[0]-1, _mean[0]+1, 100)\n",
    "    y = np.linspace(_mean[1]-1, _mean[1]+1, 100)\n",
    "\n",
    "    xx, yy = np.meshgrid(x, y)\n",
    "\n",
    "    pdf = np.zeros((100, 100))\n",
    "\n",
    "    for i in range(100):\n",
    "        for j in range(100):\n",
    "            pdf[i, j] = dist.pdf([xx[i, j], yy[i, j]])\n",
    "\n",
    "    return xx, yy, pdf\n"
   ]
  },
  {
   "cell_type": "code",
   "execution_count": 21,
   "id": "integral-recipient",
   "metadata": {},
   "outputs": [
    {
     "name": "stdout",
     "output_type": "stream",
     "text": [
      "[[ 0.          0.          0.          0.        ]\n",
      " [ 0.          0.          0.         -0.1       ]\n",
      " [ 0.          0.         -0.1        -0.30000001]\n",
      " [ 0.         -0.1        -0.30000001 -0.69999999]\n",
      " [-0.1        -0.30000001 -0.69999999 -1.10000002]\n",
      " [-0.30000001 -0.69999999 -1.10000002 -1.5       ]\n",
      " [-0.69999999 -1.10000002 -1.5        -1.89999998]\n",
      " [-1.10000002 -1.5        -1.89999998 -2.29999995]\n",
      " [-1.5        -1.89999998 -2.29999995 -2.5999999 ]\n",
      " [-1.89999998 -2.29999995 -2.5999999  -2.79999995]\n",
      " [-2.29999995 -2.5999999  -2.79999995 -2.9000001 ]\n",
      " [-2.5999999  -2.79999995 -2.9000001  -2.9000001 ]\n",
      " [-2.79999995 -2.9000001  -2.9000001  -2.70000005]\n",
      " [-2.9000001  -2.9000001  -2.70000005 -2.5       ]\n",
      " [-2.9000001  -2.70000005 -2.5        -2.20000005]\n",
      " [-2.70000005 -2.5        -2.20000005 -1.89999998]\n",
      " [-2.5        -2.20000005 -1.89999998 -1.60000002]\n",
      " [-2.20000005 -1.89999998 -1.60000002 -1.29999995]\n",
      " [-1.89999998 -1.60000002 -1.29999995 -1.        ]]\n",
      "[0. 0. 0. 0.]\n"
     ]
    }
   ],
   "source": [
    "input_lat = np.array([df.input1_latitude, df.input2_latitude, df.input3_latitude, df.input4_latitude])\n",
    "input_lat = np.transpose(input_lat)\n",
    "print(input_lat)\n",
    "\n",
    "input_long = np.array([df.input1_longitude, df.input2_longitude, df.input3_longitude, df.input4_longitude])\n",
    "input_long = np.transpose(input_long)\n",
    "print(input_lat[0])"
   ]
  },
  {
   "cell_type": "code",
   "execution_count": 22,
   "id": "level-stick",
   "metadata": {},
   "outputs": [
    {
     "name": "stdout",
     "output_type": "stream",
     "text": [
      "11\n"
     ]
    },
    {
     "data": {
      "text/plain": [
       "[<matplotlib.lines.Line2D at 0x1f9c49f5310>,\n",
       " <matplotlib.lines.Line2D at 0x1f9c4a113a0>,\n",
       " <matplotlib.lines.Line2D at 0x1f9c4a114f0>,\n",
       " <matplotlib.lines.Line2D at 0x1f9c4a11610>]"
      ]
     },
     "execution_count": 22,
     "metadata": {},
     "output_type": "execute_result"
    },
    {
     "data": {
      "image/png": "[encoded data removed]",
      "text/plain": [
       "<Figure size 432x288 with 4 Axes>"
      ]
     },
     "metadata": {
      "needs_background": "light"
     },
     "output_type": "display_data"
    }
   ],
   "source": [
    "fig = plt.figure()\n",
    "print(index)\n",
    "\n",
    "ax1 = fig.add_subplot(221)\n",
    "xx, yy, pdf = get_confidence_interval_of_target(index)\n",
    "ax1.contour(xx, yy, pdf)\n",
    "ax1.plot([input_lat[index]], [input_long[index]], marker = 'o', markersize=5, color=\"red\")\n",
    "\n",
    "ax2 = fig.add_subplot(222)\n",
    "xx, yy, pdf = get_confidence_interval_of_target(index+1)\n",
    "ax2.contour(xx, yy, pdf)\n",
    "ax2.plot([input_lat[index+1]], [input_long[index+1]], marker = 'o', markersize=5, color=\"red\")\n",
    "\n",
    "ax3 = fig.add_subplot(223)\n",
    "xx, yy, pdf = get_confidence_interval_of_target(index+2)\n",
    "ax3.contour(xx, yy, pdf)\n",
    "ax3.plot([input_lat[index+2]], [input_long[index+2]], marker = 'o', markersize=5, color=\"red\")\n",
    "\n",
    "ax4 = fig.add_subplot(224)\n",
    "xx, yy, pdf = get_confidence_interval_of_target(index+3)\n",
    "ax4.contour(xx, yy, pdf)\n",
    "ax4.plot([input_lat[index+3]], [input_long[index+3]], marker = 'o', markersize=5, color=\"red\")"
   ]
  },
  {
   "cell_type": "code",
   "execution_count": null,
   "id": "limiting-ferry",
   "metadata": {},
   "outputs": [],
   "source": []
  }
 ],
 "metadata": {
  "kernelspec": {
   "display_name": "Python 3",
   "language": "python",
   "name": "python3"
  },
  "language_info": {
   "codemirror_mode": {
    "name": "ipython",
    "version": 3
   },
   "file_extension": ".py",
   "mimetype": "text/x-python",
   "name": "python",
   "nbconvert_exporter": "python",
   "pygments_lexer": "ipython3",
   "version": "3.9.2"
  }
 },
 "nbformat": 4,
 "nbformat_minor": 5
}
